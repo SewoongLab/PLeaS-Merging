{
 "cells": [
  {
   "cell_type": "markdown",
   "metadata": {},
   "source": [
    "# PLeaS Merging - Basic Usage\n",
    "\n",
    "This notebook demonstrates how to use the PLeaS merging algorithm to merge two pretrained neural networks."
   ]
  },
  {
   "cell_type": "code",
   "execution_count": null,
   "metadata": {},
   "outputs": [],
   "source": [
    "import torch\n",
    "import torchvision\n",
    "from pleas.core.compiler import get_permutation_spec\n",
    "from pleas.methods.activation_matching import activation_matching\n",
    "from pleas.methods.partial_matching import partial_merge, get_blocks\n",
    "from pleas.methods.pleas_merging import train\n",
    "from pleas.core.utils import Axis"
   ]
  },
  {
   "cell_type": "markdown",
   "metadata": {},
   "source": [
    "## Load Models\n",
    "\n",
    "First, let's load two pretrained models."
   ]
  },
  {
   "cell_type": "code",
   "execution_count": null,
   "metadata": {},
   "outputs": [],
   "source": [
    "# Load two ResNet-50 models\n",
    "model1 = torchvision.models.resnet50(pretrained=True)\n",
    "model2 = torchvision.models.resnet50(pretrained=True)\n",
    "\n",
    "# For this example, let's randomly modify the second model\n",
    "# In a real scenario, these would be models trained on different datasets\n",
    "with torch.no_grad():\n",
    "    for param in model2.parameters():\n",
    "        param.data = param.data + 0.01 * torch.randn_like(param.data)"
   ]
  },
  {
   "cell_type": "markdown",
   "metadata": {},
   "source": [
    "## Create a Dataloader\n",
    "\n",
    "We need a dataloader to compute activations for matching."
   ]
  },
  {
   "cell_type": "code",
   "execution_count": null,
   "metadata": {},
   "outputs": [],
   "source": [
    "# Create a simple dataloader with random data\n",
    "batch_size = 8\n",
    "dataloader = torch.utils.data.DataLoader(\n",
    "    [(torch.randn(3, 224, 224), 0) for _ in range(100)],\n",
    "    batch_size=batch_size\n",
    ")"
   ]
  },
  {
   "cell_type": "markdown",
   "metadata": {},
   "source": [
    "## Generate Permutation Specification\n",
    "\n",
    "Now we need to create a permutation specification that defines which axes can be permuted."
   ]
  },
  {
   "cell_type": "code",
   "execution_count": null,
   "metadata": {},
   "outputs": [],
   "source": [
    "# Generate permutation specification\n",
    "spec = get_permutation_spec(model1, ((1, 3, 224, 224),))\n",
    "print(f\"Found {len(spec)} permutable axes\")"
   ]
  },
  {
   "cell_type": "markdown",
   "metadata": {},
   "source": [
    "## Find Permutations with Activation Matching"
   ]
  },
  {
   "cell_type": "code",
   "execution_count": null,
   "metadata": {},
   "outputs": [],
   "source": [
    "# Perform activation matching\n",
    "perm, costs = activation_matching(\n",
    "    spec,\n",
    "    model1,\n",
    "    model2,\n",
    "    dataloader,\n",
    "    num_batches=10,\n",
    "    output_costs=True\n",
    ")"
   ]
  },
  {
   "cell_type": "markdown",
   "metadata": {},
   "source": [
    "## Define Budget Ratios for Partial Merging"
   ]
  },
  {
   "cell_type": "code",
   "execution_count": null,
   "metadata": {},
   "outputs": [],
   "source": [
    "# Define budget ratios for 50% extra computation cost\n",
    "budget_ratio = 1.5\n",
    "budget_ratios = {Axis(k, 0): 0.5 for k in spec.keys()}"
   ]
  },
  {
   "cell_type": "markdown",
   "metadata": {},
   "source": [
    "## Create Initial Merged Model with Partial Merging"
   ]
  },
  {
   "cell_type": "code",
   "execution_count": null,
   "metadata": {},
   "outputs": [],
   "source": [
    "# Create initial merged model\n",
    "model3 = partial_merge(spec, model1, model2, perm, costs, budget_ratios)"
   ]
  },
  {
   "cell_type": "markdown",
   "metadata": {},
   "source": [
    "## Optimize with PLeaS"
   ]
  },
  {
   "cell_type": "code",
   "execution_count": null,
   "metadata": {},
   "outputs": [],
   "source": [
    "# Optimize the merged model using PLeaS\n",
    "optimized_model = train(\n",
    "    dataloader,\n",
    "    model1,\n",
    "    model2,\n",
    "    model3,\n",
    "    spec,\n",
    "    perm,\n",
    "    costs,\n",
    "    budget_ratios,\n",
    "    WANDB=False,\n",
    "    MAX_STEPS=50,\n",
    "    wandb_run=None\n",
    ")"
   ]
  },
  {
   "cell_type": "markdown",
   "metadata": {},
   "source": [
    "## Save the Merged Model"
   ]
  },
  {
   "cell_type": "code",
   "execution_count": null,
   "metadata": {},
   "outputs": [],
   "source": [
    "# Save the optimized model\n",
    "torch.save(optimized_model.state_dict(), \"merged_model.pth\")"
   ]
  }
 ],
 "metadata": {
  "kernelspec": {
   "display_name": "Python 3",
   "language": "python",
   "name": "python3"
  },
  "language_info": {
   "codemirror_mode": {
    "name": "ipython",
    "version": 3
   },
   "file_extension": ".py",
   "mimetype": "text/x-python",
   "name": "python",
   "nbconvert_exporter": "python",
   "pygments_lexer": "ipython3",
   "version": "3.8.10"
  }
 },
 "nbformat": 4,
 "nbformat_minor": 4
}
